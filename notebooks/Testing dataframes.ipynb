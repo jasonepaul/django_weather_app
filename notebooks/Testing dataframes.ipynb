{
 "cells": [
  {
   "cell_type": "code",
   "execution_count": 68,
   "metadata": {},
   "outputs": [],
   "source": [
    "import pandas as pd\n",
    "import numpy as np\n",
    "from math import isnan"
   ]
  },
  {
   "cell_type": "code",
   "execution_count": 2,
   "metadata": {},
   "outputs": [],
   "source": [
    "def get_wx_stats():\n",
    "    weather_stats = pd.read_csv(\n",
    "        \"C:/Users/Jason/Documents/_Projects/2020-10 weather web app/weather_stats - Copy.csv\")\n",
    "    weather_stats['last_date'] = pd.to_datetime(weather_stats.last_date)\n",
    "    # weather_stats.set_index(\"month-day\", inplace=True)\n",
    "    # print(weather_stats.info())\n",
    "    return weather_stats"
   ]
  },
  {
   "cell_type": "code",
   "execution_count": 3,
   "metadata": {},
   "outputs": [],
   "source": [
    "stats = get_wx_stats()"
   ]
  },
  {
   "cell_type": "code",
   "execution_count": 4,
   "metadata": {},
   "outputs": [
    {
     "data": {
      "text/html": [
       "<div>\n",
       "<style scoped>\n",
       "    .dataframe tbody tr th:only-of-type {\n",
       "        vertical-align: middle;\n",
       "    }\n",
       "\n",
       "    .dataframe tbody tr th {\n",
       "        vertical-align: top;\n",
       "    }\n",
       "\n",
       "    .dataframe thead th {\n",
       "        text-align: right;\n",
       "    }\n",
       "</style>\n",
       "<table border=\"1\" class=\"dataframe\">\n",
       "  <thead>\n",
       "    <tr style=\"text-align: right;\">\n",
       "      <th></th>\n",
       "      <th>month-day</th>\n",
       "      <th>last_date</th>\n",
       "      <th>record_min_temp</th>\n",
       "      <th>avg_min_temp</th>\n",
       "      <th>avg_max_temp</th>\n",
       "      <th>record_max_temp</th>\n",
       "      <th>stats_count</th>\n",
       "    </tr>\n",
       "  </thead>\n",
       "  <tbody>\n",
       "    <tr>\n",
       "      <th>0</th>\n",
       "      <td>01-01</td>\n",
       "      <td>2020-01-01</td>\n",
       "      <td>-35.6</td>\n",
       "      <td>-15.543796</td>\n",
       "      <td>-3.419708</td>\n",
       "      <td>11.7</td>\n",
       "      <td>137</td>\n",
       "    </tr>\n",
       "    <tr>\n",
       "      <th>1</th>\n",
       "      <td>01-02</td>\n",
       "      <td>2020-01-02</td>\n",
       "      <td>-37.2</td>\n",
       "      <td>-15.127206</td>\n",
       "      <td>-2.793382</td>\n",
       "      <td>12.2</td>\n",
       "      <td>136</td>\n",
       "    </tr>\n",
       "    <tr>\n",
       "      <th>2</th>\n",
       "      <td>01-03</td>\n",
       "      <td>2019-01-03</td>\n",
       "      <td>-37.2</td>\n",
       "      <td>-14.892593</td>\n",
       "      <td>-3.048148</td>\n",
       "      <td>12.2</td>\n",
       "      <td>135</td>\n",
       "    </tr>\n",
       "    <tr>\n",
       "      <th>3</th>\n",
       "      <td>01-04</td>\n",
       "      <td>2020-01-04</td>\n",
       "      <td>-35.6</td>\n",
       "      <td>-15.058824</td>\n",
       "      <td>-3.687500</td>\n",
       "      <td>15.3</td>\n",
       "      <td>136</td>\n",
       "    </tr>\n",
       "    <tr>\n",
       "      <th>4</th>\n",
       "      <td>01-05</td>\n",
       "      <td>2020-01-05</td>\n",
       "      <td>-37.8</td>\n",
       "      <td>-15.530147</td>\n",
       "      <td>-4.096324</td>\n",
       "      <td>12.1</td>\n",
       "      <td>136</td>\n",
       "    </tr>\n",
       "    <tr>\n",
       "      <th>...</th>\n",
       "      <td>...</td>\n",
       "      <td>...</td>\n",
       "      <td>...</td>\n",
       "      <td>...</td>\n",
       "      <td>...</td>\n",
       "      <td>...</td>\n",
       "      <td>...</td>\n",
       "    </tr>\n",
       "    <tr>\n",
       "      <th>361</th>\n",
       "      <td>12-27</td>\n",
       "      <td>2019-12-27</td>\n",
       "      <td>-36.1</td>\n",
       "      <td>-13.981752</td>\n",
       "      <td>-2.229197</td>\n",
       "      <td>19.5</td>\n",
       "      <td>137</td>\n",
       "    </tr>\n",
       "    <tr>\n",
       "      <th>362</th>\n",
       "      <td>12-28</td>\n",
       "      <td>2019-12-28</td>\n",
       "      <td>-38.9</td>\n",
       "      <td>-13.921168</td>\n",
       "      <td>-2.927737</td>\n",
       "      <td>16.9</td>\n",
       "      <td>137</td>\n",
       "    </tr>\n",
       "    <tr>\n",
       "      <th>363</th>\n",
       "      <td>12-29</td>\n",
       "      <td>2019-12-29</td>\n",
       "      <td>-38.1</td>\n",
       "      <td>-14.408824</td>\n",
       "      <td>-2.900735</td>\n",
       "      <td>16.1</td>\n",
       "      <td>136</td>\n",
       "    </tr>\n",
       "    <tr>\n",
       "      <th>364</th>\n",
       "      <td>12-30</td>\n",
       "      <td>2019-12-30</td>\n",
       "      <td>-37.2</td>\n",
       "      <td>-15.527206</td>\n",
       "      <td>-4.697059</td>\n",
       "      <td>10.6</td>\n",
       "      <td>136</td>\n",
       "    </tr>\n",
       "    <tr>\n",
       "      <th>365</th>\n",
       "      <td>12-31</td>\n",
       "      <td>2019-12-31</td>\n",
       "      <td>-35.6</td>\n",
       "      <td>-15.825185</td>\n",
       "      <td>-4.302963</td>\n",
       "      <td>13.3</td>\n",
       "      <td>135</td>\n",
       "    </tr>\n",
       "  </tbody>\n",
       "</table>\n",
       "<p>366 rows × 7 columns</p>\n",
       "</div>"
      ],
      "text/plain": [
       "    month-day  last_date  record_min_temp  avg_min_temp  avg_max_temp  \\\n",
       "0       01-01 2020-01-01            -35.6    -15.543796     -3.419708   \n",
       "1       01-02 2020-01-02            -37.2    -15.127206     -2.793382   \n",
       "2       01-03 2019-01-03            -37.2    -14.892593     -3.048148   \n",
       "3       01-04 2020-01-04            -35.6    -15.058824     -3.687500   \n",
       "4       01-05 2020-01-05            -37.8    -15.530147     -4.096324   \n",
       "..        ...        ...              ...           ...           ...   \n",
       "361     12-27 2019-12-27            -36.1    -13.981752     -2.229197   \n",
       "362     12-28 2019-12-28            -38.9    -13.921168     -2.927737   \n",
       "363     12-29 2019-12-29            -38.1    -14.408824     -2.900735   \n",
       "364     12-30 2019-12-30            -37.2    -15.527206     -4.697059   \n",
       "365     12-31 2019-12-31            -35.6    -15.825185     -4.302963   \n",
       "\n",
       "     record_max_temp  stats_count  \n",
       "0               11.7          137  \n",
       "1               12.2          136  \n",
       "2               12.2          135  \n",
       "3               15.3          136  \n",
       "4               12.1          136  \n",
       "..               ...          ...  \n",
       "361             19.5          137  \n",
       "362             16.9          137  \n",
       "363             16.1          136  \n",
       "364             10.6          136  \n",
       "365             13.3          135  \n",
       "\n",
       "[366 rows x 7 columns]"
      ]
     },
     "execution_count": 4,
     "metadata": {},
     "output_type": "execute_result"
    }
   ],
   "source": [
    "stats"
   ]
  },
  {
   "cell_type": "code",
   "execution_count": 8,
   "metadata": {},
   "outputs": [
    {
     "data": {
      "text/html": [
       "<div>\n",
       "<style scoped>\n",
       "    .dataframe tbody tr th:only-of-type {\n",
       "        vertical-align: middle;\n",
       "    }\n",
       "\n",
       "    .dataframe tbody tr th {\n",
       "        vertical-align: top;\n",
       "    }\n",
       "\n",
       "    .dataframe thead th {\n",
       "        text-align: right;\n",
       "    }\n",
       "</style>\n",
       "<table border=\"1\" class=\"dataframe\">\n",
       "  <thead>\n",
       "    <tr style=\"text-align: right;\">\n",
       "      <th></th>\n",
       "      <th>index</th>\n",
       "      <th>month-day</th>\n",
       "      <th>last_date</th>\n",
       "      <th>record_min_temp</th>\n",
       "      <th>avg_min_temp</th>\n",
       "      <th>avg_max_temp</th>\n",
       "      <th>record_max_temp</th>\n",
       "      <th>stats_count</th>\n",
       "    </tr>\n",
       "  </thead>\n",
       "  <tbody>\n",
       "    <tr>\n",
       "      <th>0</th>\n",
       "      <td>0</td>\n",
       "      <td>01-01</td>\n",
       "      <td>2020-01-01</td>\n",
       "      <td>-35.6</td>\n",
       "      <td>-15.543796</td>\n",
       "      <td>-3.419708</td>\n",
       "      <td>11.7</td>\n",
       "      <td>137</td>\n",
       "    </tr>\n",
       "    <tr>\n",
       "      <th>1</th>\n",
       "      <td>1</td>\n",
       "      <td>01-02</td>\n",
       "      <td>2020-01-02</td>\n",
       "      <td>-37.2</td>\n",
       "      <td>-15.127206</td>\n",
       "      <td>-2.793382</td>\n",
       "      <td>12.2</td>\n",
       "      <td>136</td>\n",
       "    </tr>\n",
       "    <tr>\n",
       "      <th>2</th>\n",
       "      <td>2</td>\n",
       "      <td>01-03</td>\n",
       "      <td>2019-01-03</td>\n",
       "      <td>-37.2</td>\n",
       "      <td>-14.892593</td>\n",
       "      <td>-3.048148</td>\n",
       "      <td>12.2</td>\n",
       "      <td>135</td>\n",
       "    </tr>\n",
       "    <tr>\n",
       "      <th>3</th>\n",
       "      <td>3</td>\n",
       "      <td>01-04</td>\n",
       "      <td>2020-01-04</td>\n",
       "      <td>-35.6</td>\n",
       "      <td>-15.058824</td>\n",
       "      <td>-3.687500</td>\n",
       "      <td>15.3</td>\n",
       "      <td>136</td>\n",
       "    </tr>\n",
       "    <tr>\n",
       "      <th>4</th>\n",
       "      <td>4</td>\n",
       "      <td>01-05</td>\n",
       "      <td>2020-01-05</td>\n",
       "      <td>-37.8</td>\n",
       "      <td>-15.530147</td>\n",
       "      <td>-4.096324</td>\n",
       "      <td>12.1</td>\n",
       "      <td>136</td>\n",
       "    </tr>\n",
       "    <tr>\n",
       "      <th>...</th>\n",
       "      <td>...</td>\n",
       "      <td>...</td>\n",
       "      <td>...</td>\n",
       "      <td>...</td>\n",
       "      <td>...</td>\n",
       "      <td>...</td>\n",
       "      <td>...</td>\n",
       "      <td>...</td>\n",
       "    </tr>\n",
       "    <tr>\n",
       "      <th>361</th>\n",
       "      <td>361</td>\n",
       "      <td>12-27</td>\n",
       "      <td>2019-12-27</td>\n",
       "      <td>-36.1</td>\n",
       "      <td>-13.981752</td>\n",
       "      <td>-2.229197</td>\n",
       "      <td>19.5</td>\n",
       "      <td>137</td>\n",
       "    </tr>\n",
       "    <tr>\n",
       "      <th>362</th>\n",
       "      <td>362</td>\n",
       "      <td>12-28</td>\n",
       "      <td>2019-12-28</td>\n",
       "      <td>-38.9</td>\n",
       "      <td>-13.921168</td>\n",
       "      <td>-2.927737</td>\n",
       "      <td>16.9</td>\n",
       "      <td>137</td>\n",
       "    </tr>\n",
       "    <tr>\n",
       "      <th>363</th>\n",
       "      <td>363</td>\n",
       "      <td>12-29</td>\n",
       "      <td>2019-12-29</td>\n",
       "      <td>-38.1</td>\n",
       "      <td>-14.408824</td>\n",
       "      <td>-2.900735</td>\n",
       "      <td>16.1</td>\n",
       "      <td>136</td>\n",
       "    </tr>\n",
       "    <tr>\n",
       "      <th>364</th>\n",
       "      <td>364</td>\n",
       "      <td>12-30</td>\n",
       "      <td>2019-12-30</td>\n",
       "      <td>-37.2</td>\n",
       "      <td>-15.527206</td>\n",
       "      <td>-4.697059</td>\n",
       "      <td>10.6</td>\n",
       "      <td>136</td>\n",
       "    </tr>\n",
       "    <tr>\n",
       "      <th>365</th>\n",
       "      <td>365</td>\n",
       "      <td>12-31</td>\n",
       "      <td>2019-12-31</td>\n",
       "      <td>-35.6</td>\n",
       "      <td>-15.825185</td>\n",
       "      <td>-4.302963</td>\n",
       "      <td>13.3</td>\n",
       "      <td>135</td>\n",
       "    </tr>\n",
       "  </tbody>\n",
       "</table>\n",
       "<p>366 rows × 8 columns</p>\n",
       "</div>"
      ],
      "text/plain": [
       "     index month-day  last_date  record_min_temp  avg_min_temp  avg_max_temp  \\\n",
       "0        0     01-01 2020-01-01            -35.6    -15.543796     -3.419708   \n",
       "1        1     01-02 2020-01-02            -37.2    -15.127206     -2.793382   \n",
       "2        2     01-03 2019-01-03            -37.2    -14.892593     -3.048148   \n",
       "3        3     01-04 2020-01-04            -35.6    -15.058824     -3.687500   \n",
       "4        4     01-05 2020-01-05            -37.8    -15.530147     -4.096324   \n",
       "..     ...       ...        ...              ...           ...           ...   \n",
       "361    361     12-27 2019-12-27            -36.1    -13.981752     -2.229197   \n",
       "362    362     12-28 2019-12-28            -38.9    -13.921168     -2.927737   \n",
       "363    363     12-29 2019-12-29            -38.1    -14.408824     -2.900735   \n",
       "364    364     12-30 2019-12-30            -37.2    -15.527206     -4.697059   \n",
       "365    365     12-31 2019-12-31            -35.6    -15.825185     -4.302963   \n",
       "\n",
       "     record_max_temp  stats_count  \n",
       "0               11.7          137  \n",
       "1               12.2          136  \n",
       "2               12.2          135  \n",
       "3               15.3          136  \n",
       "4               12.1          136  \n",
       "..               ...          ...  \n",
       "361             19.5          137  \n",
       "362             16.9          137  \n",
       "363             16.1          136  \n",
       "364             10.6          136  \n",
       "365             13.3          135  \n",
       "\n",
       "[366 rows x 8 columns]"
      ]
     },
     "execution_count": 8,
     "metadata": {},
     "output_type": "execute_result"
    }
   ],
   "source": [
    "stats.reset_index()"
   ]
  },
  {
   "cell_type": "code",
   "execution_count": 5,
   "metadata": {},
   "outputs": [
    {
     "name": "stdout",
     "output_type": "stream",
     "text": [
      "<class 'pandas.core.frame.DataFrame'>\n",
      "RangeIndex: 366 entries, 0 to 365\n",
      "Data columns (total 7 columns):\n",
      " #   Column           Non-Null Count  Dtype         \n",
      "---  ------           --------------  -----         \n",
      " 0   month-day        366 non-null    object        \n",
      " 1   last_date        366 non-null    datetime64[ns]\n",
      " 2   record_min_temp  366 non-null    float64       \n",
      " 3   avg_min_temp     366 non-null    float64       \n",
      " 4   avg_max_temp     366 non-null    float64       \n",
      " 5   record_max_temp  366 non-null    float64       \n",
      " 6   stats_count      366 non-null    int64         \n",
      "dtypes: datetime64[ns](1), float64(4), int64(1), object(1)\n",
      "memory usage: 20.1+ KB\n"
     ]
    }
   ],
   "source": [
    "stats.info()"
   ]
  },
  {
   "cell_type": "code",
   "execution_count": 7,
   "metadata": {},
   "outputs": [],
   "source": [
    "stats.to_csv(\"C:/Users/Jason/Documents/_Projects/2020-10 weather web app/weather_stats - test.csv\", index=False)"
   ]
  },
  {
   "cell_type": "code",
   "execution_count": null,
   "metadata": {},
   "outputs": [],
   "source": []
  },
  {
   "cell_type": "code",
   "execution_count": 34,
   "metadata": {},
   "outputs": [
    {
     "data": {
      "text/plain": [
       "{'a': 2, 'b': NaT}"
      ]
     },
     "execution_count": 34,
     "metadata": {},
     "output_type": "execute_result"
    }
   ],
   "source": [
    "a = {'a':2, 'b':pd.NaT}\n",
    "a"
   ]
  },
  {
   "cell_type": "code",
   "execution_count": 50,
   "metadata": {},
   "outputs": [],
   "source": [
    "b = {k: a[k] for k in a if a[k] is not pd.NaT}"
   ]
  },
  {
   "cell_type": "code",
   "execution_count": 51,
   "metadata": {},
   "outputs": [
    {
     "data": {
      "text/plain": [
       "{'a': 2}"
      ]
     },
     "execution_count": 51,
     "metadata": {},
     "output_type": "execute_result"
    }
   ],
   "source": [
    "b"
   ]
  },
  {
   "cell_type": "code",
   "execution_count": 57,
   "metadata": {},
   "outputs": [
    {
     "data": {
      "text/plain": [
       "{'a': 2, 'b': None}"
      ]
     },
     "execution_count": 57,
     "metadata": {},
     "output_type": "execute_result"
    }
   ],
   "source": [
    "a = {'a':2, 'b':None}\n",
    "a"
   ]
  },
  {
   "cell_type": "code",
   "execution_count": 58,
   "metadata": {},
   "outputs": [
    {
     "data": {
      "text/plain": [
       "{'a': 2, 'b': None}"
      ]
     },
     "execution_count": 58,
     "metadata": {},
     "output_type": "execute_result"
    }
   ],
   "source": [
    "b = {k: a[k] for k in a if a[k] is not np.nan}\n",
    "b"
   ]
  },
  {
   "cell_type": "code",
   "execution_count": 55,
   "metadata": {},
   "outputs": [
    {
     "data": {
      "text/plain": [
       "float"
      ]
     },
     "execution_count": 55,
     "metadata": {},
     "output_type": "execute_result"
    }
   ],
   "source": [
    "type(np.nan)"
   ]
  },
  {
   "cell_type": "code",
   "execution_count": 56,
   "metadata": {},
   "outputs": [
    {
     "data": {
      "text/plain": [
       "pandas._libs.tslibs.nattype.NaTType"
      ]
     },
     "execution_count": 56,
     "metadata": {},
     "output_type": "execute_result"
    }
   ],
   "source": [
    "type(pd.NaT)"
   ]
  },
  {
   "cell_type": "code",
   "execution_count": 61,
   "metadata": {},
   "outputs": [
    {
     "data": {
      "text/html": [
       "<div>\n",
       "<style scoped>\n",
       "    .dataframe tbody tr th:only-of-type {\n",
       "        vertical-align: middle;\n",
       "    }\n",
       "\n",
       "    .dataframe tbody tr th {\n",
       "        vertical-align: top;\n",
       "    }\n",
       "\n",
       "    .dataframe thead th {\n",
       "        text-align: right;\n",
       "    }\n",
       "</style>\n",
       "<table border=\"1\" class=\"dataframe\">\n",
       "  <thead>\n",
       "    <tr style=\"text-align: right;\">\n",
       "      <th></th>\n",
       "      <th>id</th>\n",
       "      <th>x</th>\n",
       "    </tr>\n",
       "  </thead>\n",
       "  <tbody>\n",
       "    <tr>\n",
       "      <th>0</th>\n",
       "      <td>a</td>\n",
       "      <td>0.0</td>\n",
       "    </tr>\n",
       "    <tr>\n",
       "      <th>1</th>\n",
       "      <td>a</td>\n",
       "      <td>1.0</td>\n",
       "    </tr>\n",
       "    <tr>\n",
       "      <th>2</th>\n",
       "      <td>a</td>\n",
       "      <td>NaN</td>\n",
       "    </tr>\n",
       "    <tr>\n",
       "      <th>3</th>\n",
       "      <td>b</td>\n",
       "      <td>3.0</td>\n",
       "    </tr>\n",
       "    <tr>\n",
       "      <th>4</th>\n",
       "      <td>b</td>\n",
       "      <td>4.0</td>\n",
       "    </tr>\n",
       "    <tr>\n",
       "      <th>5</th>\n",
       "      <td>b</td>\n",
       "      <td>5.0</td>\n",
       "    </tr>\n",
       "  </tbody>\n",
       "</table>\n",
       "</div>"
      ],
      "text/plain": [
       "  id    x\n",
       "0  a  0.0\n",
       "1  a  1.0\n",
       "2  a  NaN\n",
       "3  b  3.0\n",
       "4  b  4.0\n",
       "5  b  5.0"
      ]
     },
     "execution_count": 61,
     "metadata": {},
     "output_type": "execute_result"
    }
   ],
   "source": [
    "x = range(0, 6)\n",
    "id = ['a', 'a', 'a', 'b', 'b', 'b']\n",
    "df = pd.DataFrame(zip(id, x), columns = ['id', 'x'])\n",
    "df.iloc[2, 1] = np.nan\n",
    "df"
   ]
  },
  {
   "cell_type": "code",
   "execution_count": 69,
   "metadata": {},
   "outputs": [
    {
     "name": "stdout",
     "output_type": "stream",
     "text": [
      "{'id': 'a', 'x': 0.0}\n",
      "{'id': 'a', 'x': 1.0}\n",
      "{'id': 'a', 'x': nan}\n",
      "{'id': 'b', 'x': 3.0}\n",
      "{'id': 'b', 'x': 4.0}\n",
      "{'id': 'b', 'x': 5.0}\n"
     ]
    }
   ],
   "source": [
    "for entry in df.T.to_dict().values():\n",
    "#     entry = {k: entry[k] for k in entry if entry[k] is not pd.NaT}\n",
    "    entry = {k: entry[k] for k in entry if entry[k] is not np.nan}\n",
    "    print(entry)"
   ]
  },
  {
   "cell_type": "code",
   "execution_count": 89,
   "metadata": {},
   "outputs": [
    {
     "name": "stdout",
     "output_type": "stream",
     "text": [
      "{'id': 'a', 'x': 0.0}\n",
      "{'id': 'a', 'x': 1.0}\n",
      "{'id': 'a'}\n",
      "{'id': 'b', 'x': 3.0}\n",
      "{'id': 'b', 'x': 4.0}\n",
      "{'id': 'b', 'x': 5.0}\n"
     ]
    }
   ],
   "source": [
    "for e in df.T.to_dict().values():\n",
    "    e = {k: v for k,v in e.items() if not pd.isnull(v) }\n",
    "    print(e)"
   ]
  },
  {
   "cell_type": "code",
   "execution_count": 88,
   "metadata": {},
   "outputs": [
    {
     "name": "stdout",
     "output_type": "stream",
     "text": [
      "{'id': 'a', 'x': 0.0}\n",
      "{'id': 'a', 'x': 1.0}\n",
      "{'id': 'a'}\n",
      "{'id': 'b', 'x': 3.0}\n",
      "{'id': 'b', 'x': 4.0}\n",
      "{'id': 'b', 'x': 5.0}\n"
     ]
    }
   ],
   "source": [
    "for e in df.T.to_dict().values():\n",
    "    new = {}\n",
    "    for k, v in e.items():\n",
    "        if not pd.isnull(v):\n",
    "            new[k] = v\n",
    "    print(new)"
   ]
  },
  {
   "cell_type": "code",
   "execution_count": null,
   "metadata": {},
   "outputs": [],
   "source": []
  }
 ],
 "metadata": {
  "kernelspec": {
   "display_name": "Python 3",
   "language": "python",
   "name": "python3"
  },
  "language_info": {
   "codemirror_mode": {
    "name": "ipython",
    "version": 3
   },
   "file_extension": ".py",
   "mimetype": "text/x-python",
   "name": "python",
   "nbconvert_exporter": "python",
   "pygments_lexer": "ipython3",
   "version": "3.7.9"
  }
 },
 "nbformat": 4,
 "nbformat_minor": 4
}
