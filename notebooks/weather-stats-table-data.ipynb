{
 "cells": [
  {
   "cell_type": "code",
   "execution_count": 18,
   "metadata": {},
   "outputs": [],
   "source": [
    "import pandas as pd\n",
    "import numpy as np"
   ]
  },
  {
   "cell_type": "code",
   "execution_count": 19,
   "metadata": {},
   "outputs": [
    {
     "data": {
      "text/html": [
       "<style>.container { width:90% !important; }</style>"
      ],
      "text/plain": [
       "<IPython.core.display.HTML object>"
      ]
     },
     "metadata": {},
     "output_type": "display_data"
    }
   ],
   "source": [
    "from IPython.core.display import display, HTML\n",
    "display(HTML(\"<style>.container { width:90% !important; }</style>\"))"
   ]
  },
  {
   "cell_type": "code",
   "execution_count": 20,
   "metadata": {},
   "outputs": [],
   "source": [
    "url_template = \"https://climate.weather.gc.ca/climate_data/bulk_data_e.html?format=csv&stationID={station}&Year={year}&Month={month}&timeframe={time_int}&submit=Download+Data\""
   ]
  },
  {
   "cell_type": "code",
   "execution_count": 21,
   "metadata": {},
   "outputs": [],
   "source": [
    "def download_weather_data(station, year, month=1, daily=True):\n",
    "    if daily:\n",
    "        url = url_template.format(station=station, year=year, month=month, time_int=2)\n",
    "    else:\n",
    "        url = url_template.format(station=station, year=year, month=month, time_int=1)\n",
    "        \n",
    "    weather_data = pd.read_csv(url, index_col='Date/Time', parse_dates=True)\n",
    "    # replace the degree symbol in the column names\n",
    "    weather_data.columns = [col.replace('\\xb0', '') for col in weather_data.columns]\n",
    "    return weather_data"
   ]
  },
  {
   "cell_type": "code",
   "execution_count": 29,
   "metadata": {},
   "outputs": [],
   "source": [
    "def get_all_years():\n",
    "    df_list = []\n",
    "    for yr in range(1881, 2013):\n",
    "        df = download_weather_data(2205, yr)\n",
    "        df_list.append(df)\n",
    "    for yr in range(2012, 2021):\n",
    "        df = download_weather_data(50430, yr)\n",
    "        df_list.append(df)\n",
    "    return df_list"
   ]
  },
  {
   "cell_type": "code",
   "execution_count": 30,
   "metadata": {},
   "outputs": [],
   "source": [
    "df_list = get_all_years()"
   ]
  },
  {
   "cell_type": "code",
   "execution_count": 31,
   "metadata": {},
   "outputs": [
    {
     "name": "stdout",
     "output_type": "stream",
     "text": [
      "Length of list: 141\n"
     ]
    }
   ],
   "source": [
    "print(\"Length of list:\", len(df_list))"
   ]
  },
  {
   "cell_type": "code",
   "execution_count": 94,
   "metadata": {},
   "outputs": [],
   "source": [
    "all_weather = pd.concat(df_list)"
   ]
  },
  {
   "cell_type": "code",
   "execution_count": 101,
   "metadata": {},
   "outputs": [
    {
     "name": "stdout",
     "output_type": "stream",
     "text": [
      "<class 'pandas.core.frame.DataFrame'>\n",
      "DatetimeIndex: 51500 entries, 1881-01-01 to 2020-12-31\n",
      "Data columns (total 30 columns):\n",
      " #   Column                     Non-Null Count  Dtype  \n",
      "---  ------                     --------------  -----  \n",
      " 0   Longitude (x)              51500 non-null  float64\n",
      " 1   Latitude (y)               51500 non-null  float64\n",
      " 2   Station Name               51500 non-null  object \n",
      " 3   Climate ID                 51500 non-null  int64  \n",
      " 4   Year                       51500 non-null  int64  \n",
      " 5   Month                      51500 non-null  int64  \n",
      " 6   Day                        51500 non-null  int64  \n",
      " 7   Data Quality               0 non-null      float64\n",
      " 8   Max Temp (C)               49785 non-null  float64\n",
      " 9   Max Temp Flag              129 non-null    object \n",
      " 10  Min Temp (C)               49738 non-null  float64\n",
      " 11  Min Temp Flag              130 non-null    object \n",
      " 12  Mean Temp (C)              49731 non-null  float64\n",
      " 13  Mean Temp Flag             132 non-null    object \n",
      " 14  Heat Deg Days (C)          49731 non-null  float64\n",
      " 15  Heat Deg Days Flag         132 non-null    object \n",
      " 16  Cool Deg Days (C)          49731 non-null  float64\n",
      " 17  Cool Deg Days Flag         132 non-null    object \n",
      " 18  Total Rain (mm)            49722 non-null  float64\n",
      " 19  Total Rain Flag            3303 non-null   object \n",
      " 20  Total Snow (cm)            49759 non-null  float64\n",
      " 21  Total Snow Flag            3568 non-null   object \n",
      " 22  Total Precip (mm)          49784 non-null  float64\n",
      " 23  Total Precip Flag          5960 non-null   object \n",
      " 24  Snow on Grnd (cm)          22137 non-null  float64\n",
      " 25  Snow on Grnd Flag          2281 non-null   object \n",
      " 26  Dir of Max Gust (10s deg)  16860 non-null  float64\n",
      " 27  Dir of Max Gust Flag       3132 non-null   object \n",
      " 28  Spd of Max Gust (km/h)     23657 non-null  object \n",
      " 29  Spd of Max Gust Flag       2906 non-null   object \n",
      "dtypes: float64(13), int64(4), object(13)\n",
      "memory usage: 12.2+ MB\n"
     ]
    }
   ],
   "source": [
    "all_weather.info()"
   ]
  },
  {
   "cell_type": "code",
   "execution_count": 109,
   "metadata": {},
   "outputs": [
    {
     "name": "stderr",
     "output_type": "stream",
     "text": [
      "C:\\Users\\Jason\\Anaconda3\\lib\\site-packages\\ipykernel_launcher.py:2: SettingWithCopyWarning: \n",
      "A value is trying to be set on a copy of a slice from a DataFrame\n",
      "\n",
      "See the caveats in the documentation: https://pandas.pydata.org/pandas-docs/stable/user_guide/indexing.html#returning-a-view-versus-a-copy\n",
      "  \n",
      "C:\\Users\\Jason\\Anaconda3\\lib\\site-packages\\ipykernel_launcher.py:7: SettingWithCopyWarning: \n",
      "A value is trying to be set on a copy of a slice from a DataFrame.\n",
      "Try using .loc[row_indexer,col_indexer] = value instead\n",
      "\n",
      "See the caveats in the documentation: https://pandas.pydata.org/pandas-docs/stable/user_guide/indexing.html#returning-a-view-versus-a-copy\n",
      "  import sys\n"
     ]
    }
   ],
   "source": [
    "all_yyc_weather = all_weather[['Station Name', 'Year', 'Month', 'Day', 'Min Temp (C)', 'Max Temp (C)', 'Mean Temp (C)']]\n",
    "all_yyc_weather.dropna(inplace=True)\n",
    "months = all_yyc_weather.index.month.astype(str)\n",
    "months = months.map(lambda x: x if len(x) == 2 else '0' + x)\n",
    "days = all_yyc_weather.index.day.astype(str)\n",
    "days = days.map(lambda x: x if len(x) == 2 else '0' + x)\n",
    "all_yyc_weather['month-day'] = months + \"-\" + days"
   ]
  },
  {
   "cell_type": "code",
   "execution_count": 110,
   "metadata": {
    "scrolled": true
   },
   "outputs": [
    {
     "name": "stdout",
     "output_type": "stream",
     "text": [
      "<class 'pandas.core.frame.DataFrame'>\n",
      "DatetimeIndex: 49731 entries, 1881-10-26 to 2020-10-20\n",
      "Data columns (total 8 columns):\n",
      " #   Column         Non-Null Count  Dtype  \n",
      "---  ------         --------------  -----  \n",
      " 0   Station Name   49731 non-null  object \n",
      " 1   Year           49731 non-null  int64  \n",
      " 2   Month          49731 non-null  int64  \n",
      " 3   Day            49731 non-null  int64  \n",
      " 4   Min Temp (C)   49731 non-null  float64\n",
      " 5   Max Temp (C)   49731 non-null  float64\n",
      " 6   Mean Temp (C)  49731 non-null  float64\n",
      " 7   month-day      49731 non-null  object \n",
      "dtypes: float64(3), int64(3), object(2)\n",
      "memory usage: 3.4+ MB\n"
     ]
    }
   ],
   "source": [
    "all_yyc_weather.info()"
   ]
  },
  {
   "cell_type": "code",
   "execution_count": 121,
   "metadata": {
    "scrolled": true
   },
   "outputs": [
    {
     "data": {
      "text/html": [
       "<div>\n",
       "<style scoped>\n",
       "    .dataframe tbody tr th:only-of-type {\n",
       "        vertical-align: middle;\n",
       "    }\n",
       "\n",
       "    .dataframe tbody tr th {\n",
       "        vertical-align: top;\n",
       "    }\n",
       "\n",
       "    .dataframe thead th {\n",
       "        text-align: right;\n",
       "    }\n",
       "</style>\n",
       "<table border=\"1\" class=\"dataframe\">\n",
       "  <thead>\n",
       "    <tr style=\"text-align: right;\">\n",
       "      <th></th>\n",
       "      <th>Station Name</th>\n",
       "      <th>Year</th>\n",
       "      <th>Month</th>\n",
       "      <th>Day</th>\n",
       "      <th>Min Temp (C)</th>\n",
       "      <th>Max Temp (C)</th>\n",
       "      <th>Mean Temp (C)</th>\n",
       "      <th>month-day</th>\n",
       "    </tr>\n",
       "    <tr>\n",
       "      <th>Date/Time</th>\n",
       "      <th></th>\n",
       "      <th></th>\n",
       "      <th></th>\n",
       "      <th></th>\n",
       "      <th></th>\n",
       "      <th></th>\n",
       "      <th></th>\n",
       "      <th></th>\n",
       "    </tr>\n",
       "  </thead>\n",
       "  <tbody>\n",
       "    <tr>\n",
       "      <th>1881-10-26</th>\n",
       "      <td>CALGARY INT'L A</td>\n",
       "      <td>1881</td>\n",
       "      <td>10</td>\n",
       "      <td>26</td>\n",
       "      <td>-17.8</td>\n",
       "      <td>11.7</td>\n",
       "      <td>-3.1</td>\n",
       "      <td>10-26</td>\n",
       "    </tr>\n",
       "    <tr>\n",
       "      <th>1881-10-27</th>\n",
       "      <td>CALGARY INT'L A</td>\n",
       "      <td>1881</td>\n",
       "      <td>10</td>\n",
       "      <td>27</td>\n",
       "      <td>-3.9</td>\n",
       "      <td>11.7</td>\n",
       "      <td>3.9</td>\n",
       "      <td>10-27</td>\n",
       "    </tr>\n",
       "    <tr>\n",
       "      <th>1881-10-28</th>\n",
       "      <td>CALGARY INT'L A</td>\n",
       "      <td>1881</td>\n",
       "      <td>10</td>\n",
       "      <td>28</td>\n",
       "      <td>-4.4</td>\n",
       "      <td>11.1</td>\n",
       "      <td>3.4</td>\n",
       "      <td>10-28</td>\n",
       "    </tr>\n",
       "    <tr>\n",
       "      <th>1881-10-29</th>\n",
       "      <td>CALGARY INT'L A</td>\n",
       "      <td>1881</td>\n",
       "      <td>10</td>\n",
       "      <td>29</td>\n",
       "      <td>-4.4</td>\n",
       "      <td>10.6</td>\n",
       "      <td>3.1</td>\n",
       "      <td>10-29</td>\n",
       "    </tr>\n",
       "    <tr>\n",
       "      <th>1881-10-30</th>\n",
       "      <td>CALGARY INT'L A</td>\n",
       "      <td>1881</td>\n",
       "      <td>10</td>\n",
       "      <td>30</td>\n",
       "      <td>-5.0</td>\n",
       "      <td>10.6</td>\n",
       "      <td>2.8</td>\n",
       "      <td>10-30</td>\n",
       "    </tr>\n",
       "  </tbody>\n",
       "</table>\n",
       "</div>"
      ],
      "text/plain": [
       "               Station Name  Year  Month  Day  Min Temp (C)  Max Temp (C)  \\\n",
       "Date/Time                                                                   \n",
       "1881-10-26  CALGARY INT'L A  1881     10   26         -17.8          11.7   \n",
       "1881-10-27  CALGARY INT'L A  1881     10   27          -3.9          11.7   \n",
       "1881-10-28  CALGARY INT'L A  1881     10   28          -4.4          11.1   \n",
       "1881-10-29  CALGARY INT'L A  1881     10   29          -4.4          10.6   \n",
       "1881-10-30  CALGARY INT'L A  1881     10   30          -5.0          10.6   \n",
       "\n",
       "            Mean Temp (C) month-day  \n",
       "Date/Time                            \n",
       "1881-10-26           -3.1     10-26  \n",
       "1881-10-27            3.9     10-27  \n",
       "1881-10-28            3.4     10-28  \n",
       "1881-10-29            3.1     10-29  \n",
       "1881-10-30            2.8     10-30  "
      ]
     },
     "execution_count": 121,
     "metadata": {},
     "output_type": "execute_result"
    }
   ],
   "source": [
    "all_yyc_weather.head()"
   ]
  },
  {
   "cell_type": "code",
   "execution_count": 201,
   "metadata": {},
   "outputs": [
    {
     "data": {
      "text/html": [
       "<div>\n",
       "<style scoped>\n",
       "    .dataframe tbody tr th:only-of-type {\n",
       "        vertical-align: middle;\n",
       "    }\n",
       "\n",
       "    .dataframe tbody tr th {\n",
       "        vertical-align: top;\n",
       "    }\n",
       "\n",
       "    .dataframe thead th {\n",
       "        text-align: right;\n",
       "    }\n",
       "</style>\n",
       "<table border=\"1\" class=\"dataframe\">\n",
       "  <thead>\n",
       "    <tr style=\"text-align: right;\">\n",
       "      <th></th>\n",
       "      <th>Station Name</th>\n",
       "      <th>Year</th>\n",
       "      <th>Month</th>\n",
       "      <th>Day</th>\n",
       "      <th>Min Temp (C)</th>\n",
       "      <th>Max Temp (C)</th>\n",
       "      <th>Mean Temp (C)</th>\n",
       "      <th>month-day</th>\n",
       "    </tr>\n",
       "    <tr>\n",
       "      <th>Date/Time</th>\n",
       "      <th></th>\n",
       "      <th></th>\n",
       "      <th></th>\n",
       "      <th></th>\n",
       "      <th></th>\n",
       "      <th></th>\n",
       "      <th></th>\n",
       "      <th></th>\n",
       "    </tr>\n",
       "  </thead>\n",
       "  <tbody>\n",
       "    <tr>\n",
       "      <th>2020-10-16</th>\n",
       "      <td>CALGARY INTL A</td>\n",
       "      <td>2020</td>\n",
       "      <td>10</td>\n",
       "      <td>16</td>\n",
       "      <td>-3.8</td>\n",
       "      <td>3.9</td>\n",
       "      <td>0.1</td>\n",
       "      <td>10-16</td>\n",
       "    </tr>\n",
       "    <tr>\n",
       "      <th>2020-10-17</th>\n",
       "      <td>CALGARY INTL A</td>\n",
       "      <td>2020</td>\n",
       "      <td>10</td>\n",
       "      <td>17</td>\n",
       "      <td>-8.2</td>\n",
       "      <td>-3.3</td>\n",
       "      <td>-5.8</td>\n",
       "      <td>10-17</td>\n",
       "    </tr>\n",
       "    <tr>\n",
       "      <th>2020-10-18</th>\n",
       "      <td>CALGARY INTL A</td>\n",
       "      <td>2020</td>\n",
       "      <td>10</td>\n",
       "      <td>18</td>\n",
       "      <td>-8.8</td>\n",
       "      <td>-6.3</td>\n",
       "      <td>-7.6</td>\n",
       "      <td>10-18</td>\n",
       "    </tr>\n",
       "    <tr>\n",
       "      <th>2020-10-19</th>\n",
       "      <td>CALGARY INTL A</td>\n",
       "      <td>2020</td>\n",
       "      <td>10</td>\n",
       "      <td>19</td>\n",
       "      <td>-8.0</td>\n",
       "      <td>-0.5</td>\n",
       "      <td>-4.3</td>\n",
       "      <td>10-19</td>\n",
       "    </tr>\n",
       "    <tr>\n",
       "      <th>2020-10-20</th>\n",
       "      <td>CALGARY INTL A</td>\n",
       "      <td>2020</td>\n",
       "      <td>10</td>\n",
       "      <td>20</td>\n",
       "      <td>-4.6</td>\n",
       "      <td>1.9</td>\n",
       "      <td>-1.4</td>\n",
       "      <td>10-20</td>\n",
       "    </tr>\n",
       "  </tbody>\n",
       "</table>\n",
       "</div>"
      ],
      "text/plain": [
       "              Station Name  Year  Month  Day  Min Temp (C)  Max Temp (C)  \\\n",
       "Date/Time                                                                  \n",
       "2020-10-16  CALGARY INTL A  2020     10   16          -3.8           3.9   \n",
       "2020-10-17  CALGARY INTL A  2020     10   17          -8.2          -3.3   \n",
       "2020-10-18  CALGARY INTL A  2020     10   18          -8.8          -6.3   \n",
       "2020-10-19  CALGARY INTL A  2020     10   19          -8.0          -0.5   \n",
       "2020-10-20  CALGARY INTL A  2020     10   20          -4.6           1.9   \n",
       "\n",
       "            Mean Temp (C) month-day  \n",
       "Date/Time                            \n",
       "2020-10-16            0.1     10-16  \n",
       "2020-10-17           -5.8     10-17  \n",
       "2020-10-18           -7.6     10-18  \n",
       "2020-10-19           -4.3     10-19  \n",
       "2020-10-20           -1.4     10-20  "
      ]
     },
     "execution_count": 201,
     "metadata": {},
     "output_type": "execute_result"
    }
   ],
   "source": [
    "all_yyc_weather.tail()"
   ]
  },
  {
   "cell_type": "code",
   "execution_count": 112,
   "metadata": {},
   "outputs": [],
   "source": [
    "all_yyc_weather.to_csv(\"C:/Users/Jason/Documents/_Projects/2020-10 yyc_weather web app/all_yyc_weather.csv\")"
   ]
  },
  {
   "cell_type": "markdown",
   "metadata": {},
   "source": [
    "## Build the weather_stats table"
   ]
  },
  {
   "cell_type": "code",
   "execution_count": 244,
   "metadata": {},
   "outputs": [
    {
     "data": {
      "text/html": [
       "<div>\n",
       "<style scoped>\n",
       "    .dataframe tbody tr th:only-of-type {\n",
       "        vertical-align: middle;\n",
       "    }\n",
       "\n",
       "    .dataframe tbody tr th {\n",
       "        vertical-align: top;\n",
       "    }\n",
       "\n",
       "    .dataframe thead th {\n",
       "        text-align: right;\n",
       "    }\n",
       "</style>\n",
       "<table border=\"1\" class=\"dataframe\">\n",
       "  <thead>\n",
       "    <tr style=\"text-align: right;\">\n",
       "      <th></th>\n",
       "      <th>last_date</th>\n",
       "    </tr>\n",
       "    <tr>\n",
       "      <th>month-day</th>\n",
       "      <th></th>\n",
       "    </tr>\n",
       "  </thead>\n",
       "  <tbody>\n",
       "    <tr>\n",
       "      <th>01-01</th>\n",
       "      <td>2020-01-01</td>\n",
       "    </tr>\n",
       "    <tr>\n",
       "      <th>01-02</th>\n",
       "      <td>2020-01-02</td>\n",
       "    </tr>\n",
       "    <tr>\n",
       "      <th>01-03</th>\n",
       "      <td>2019-01-03</td>\n",
       "    </tr>\n",
       "    <tr>\n",
       "      <th>01-04</th>\n",
       "      <td>2020-01-04</td>\n",
       "    </tr>\n",
       "    <tr>\n",
       "      <th>01-05</th>\n",
       "      <td>2020-01-05</td>\n",
       "    </tr>\n",
       "    <tr>\n",
       "      <th>...</th>\n",
       "      <td>...</td>\n",
       "    </tr>\n",
       "    <tr>\n",
       "      <th>12-27</th>\n",
       "      <td>2019-12-27</td>\n",
       "    </tr>\n",
       "    <tr>\n",
       "      <th>12-28</th>\n",
       "      <td>2019-12-28</td>\n",
       "    </tr>\n",
       "    <tr>\n",
       "      <th>12-29</th>\n",
       "      <td>2019-12-29</td>\n",
       "    </tr>\n",
       "    <tr>\n",
       "      <th>12-30</th>\n",
       "      <td>2019-12-30</td>\n",
       "    </tr>\n",
       "    <tr>\n",
       "      <th>12-31</th>\n",
       "      <td>2019-12-31</td>\n",
       "    </tr>\n",
       "  </tbody>\n",
       "</table>\n",
       "<p>366 rows × 1 columns</p>\n",
       "</div>"
      ],
      "text/plain": [
       "           last_date\n",
       "month-day           \n",
       "01-01     2020-01-01\n",
       "01-02     2020-01-02\n",
       "01-03     2019-01-03\n",
       "01-04     2020-01-04\n",
       "01-05     2020-01-05\n",
       "...              ...\n",
       "12-27     2019-12-27\n",
       "12-28     2019-12-28\n",
       "12-29     2019-12-29\n",
       "12-30     2019-12-30\n",
       "12-31     2019-12-31\n",
       "\n",
       "[366 rows x 1 columns]"
      ]
     },
     "execution_count": 244,
     "metadata": {},
     "output_type": "execute_result"
    }
   ],
   "source": [
    "weather_stats = pd.DataFrame()\n",
    "all_yyc_weather_reduced = all_yyc_weather.drop_duplicates(subset=['month-day'], keep='last')['month-day']\n",
    "weather_stats['month-day'] = all_yyc_weather_reduced\n",
    "weather_stats['last_date'] = all_yyc_weather_reduced.index\n",
    "weather_stats.set_index(['month-day'], inplace=True)\n",
    "weather_stats.sort_index(inplace=True)\n",
    "weather_stats"
   ]
  },
  {
   "cell_type": "code",
   "execution_count": 245,
   "metadata": {
    "scrolled": true
   },
   "outputs": [],
   "source": [
    "groupby = all_yyc_weather.groupby('month-day')[f'Min Temp (C)']\n",
    "weather_stats[f'record_Min_temp'] = groupby.min()\n",
    "weather_stats[f'avg_Min_temp'] = groupby.mean()\n",
    "\n",
    "groupby = all_yyc_weather.groupby('month-day')[f'Max Temp (C)']\n",
    "weather_stats[f'avg_Max_temp'] = groupby.mean()\n",
    "weather_stats[f'record_Max_temp'] = groupby.max()\n",
    "\n",
    "weather_stats[f'stats_count'] = groupby.count()"
   ]
  },
  {
   "cell_type": "code",
   "execution_count": 246,
   "metadata": {},
   "outputs": [],
   "source": [
    "weather_stats.columns = [col.lower() for col in weather_stats.columns]"
   ]
  },
  {
   "cell_type": "code",
   "execution_count": 247,
   "metadata": {},
   "outputs": [
    {
     "data": {
      "text/html": [
       "<div>\n",
       "<style scoped>\n",
       "    .dataframe tbody tr th:only-of-type {\n",
       "        vertical-align: middle;\n",
       "    }\n",
       "\n",
       "    .dataframe tbody tr th {\n",
       "        vertical-align: top;\n",
       "    }\n",
       "\n",
       "    .dataframe thead th {\n",
       "        text-align: right;\n",
       "    }\n",
       "</style>\n",
       "<table border=\"1\" class=\"dataframe\">\n",
       "  <thead>\n",
       "    <tr style=\"text-align: right;\">\n",
       "      <th></th>\n",
       "      <th>last_date</th>\n",
       "      <th>record_min_temp</th>\n",
       "      <th>avg_min_temp</th>\n",
       "      <th>avg_max_temp</th>\n",
       "      <th>record_max_temp</th>\n",
       "      <th>stats_count</th>\n",
       "    </tr>\n",
       "    <tr>\n",
       "      <th>month-day</th>\n",
       "      <th></th>\n",
       "      <th></th>\n",
       "      <th></th>\n",
       "      <th></th>\n",
       "      <th></th>\n",
       "      <th></th>\n",
       "    </tr>\n",
       "  </thead>\n",
       "  <tbody>\n",
       "    <tr>\n",
       "      <th>01-01</th>\n",
       "      <td>2020-01-01</td>\n",
       "      <td>-35.6</td>\n",
       "      <td>-15.543796</td>\n",
       "      <td>-3.419708</td>\n",
       "      <td>11.7</td>\n",
       "      <td>137</td>\n",
       "    </tr>\n",
       "    <tr>\n",
       "      <th>01-02</th>\n",
       "      <td>2020-01-02</td>\n",
       "      <td>-37.2</td>\n",
       "      <td>-15.127206</td>\n",
       "      <td>-2.793382</td>\n",
       "      <td>12.2</td>\n",
       "      <td>136</td>\n",
       "    </tr>\n",
       "    <tr>\n",
       "      <th>01-03</th>\n",
       "      <td>2019-01-03</td>\n",
       "      <td>-37.2</td>\n",
       "      <td>-14.892593</td>\n",
       "      <td>-3.048148</td>\n",
       "      <td>12.2</td>\n",
       "      <td>135</td>\n",
       "    </tr>\n",
       "    <tr>\n",
       "      <th>01-04</th>\n",
       "      <td>2020-01-04</td>\n",
       "      <td>-35.6</td>\n",
       "      <td>-15.058824</td>\n",
       "      <td>-3.687500</td>\n",
       "      <td>15.3</td>\n",
       "      <td>136</td>\n",
       "    </tr>\n",
       "    <tr>\n",
       "      <th>01-05</th>\n",
       "      <td>2020-01-05</td>\n",
       "      <td>-37.8</td>\n",
       "      <td>-15.530147</td>\n",
       "      <td>-4.096324</td>\n",
       "      <td>12.1</td>\n",
       "      <td>136</td>\n",
       "    </tr>\n",
       "    <tr>\n",
       "      <th>...</th>\n",
       "      <td>...</td>\n",
       "      <td>...</td>\n",
       "      <td>...</td>\n",
       "      <td>...</td>\n",
       "      <td>...</td>\n",
       "      <td>...</td>\n",
       "    </tr>\n",
       "    <tr>\n",
       "      <th>12-27</th>\n",
       "      <td>2019-12-27</td>\n",
       "      <td>-36.1</td>\n",
       "      <td>-13.981752</td>\n",
       "      <td>-2.229197</td>\n",
       "      <td>19.5</td>\n",
       "      <td>137</td>\n",
       "    </tr>\n",
       "    <tr>\n",
       "      <th>12-28</th>\n",
       "      <td>2019-12-28</td>\n",
       "      <td>-38.9</td>\n",
       "      <td>-13.921168</td>\n",
       "      <td>-2.927737</td>\n",
       "      <td>16.9</td>\n",
       "      <td>137</td>\n",
       "    </tr>\n",
       "    <tr>\n",
       "      <th>12-29</th>\n",
       "      <td>2019-12-29</td>\n",
       "      <td>-38.1</td>\n",
       "      <td>-14.408824</td>\n",
       "      <td>-2.900735</td>\n",
       "      <td>16.1</td>\n",
       "      <td>136</td>\n",
       "    </tr>\n",
       "    <tr>\n",
       "      <th>12-30</th>\n",
       "      <td>2019-12-30</td>\n",
       "      <td>-37.2</td>\n",
       "      <td>-15.527206</td>\n",
       "      <td>-4.697059</td>\n",
       "      <td>10.6</td>\n",
       "      <td>136</td>\n",
       "    </tr>\n",
       "    <tr>\n",
       "      <th>12-31</th>\n",
       "      <td>2019-12-31</td>\n",
       "      <td>-35.6</td>\n",
       "      <td>-15.825185</td>\n",
       "      <td>-4.302963</td>\n",
       "      <td>13.3</td>\n",
       "      <td>135</td>\n",
       "    </tr>\n",
       "  </tbody>\n",
       "</table>\n",
       "<p>366 rows × 6 columns</p>\n",
       "</div>"
      ],
      "text/plain": [
       "           last_date  record_min_temp  avg_min_temp  avg_max_temp  \\\n",
       "month-day                                                           \n",
       "01-01     2020-01-01            -35.6    -15.543796     -3.419708   \n",
       "01-02     2020-01-02            -37.2    -15.127206     -2.793382   \n",
       "01-03     2019-01-03            -37.2    -14.892593     -3.048148   \n",
       "01-04     2020-01-04            -35.6    -15.058824     -3.687500   \n",
       "01-05     2020-01-05            -37.8    -15.530147     -4.096324   \n",
       "...              ...              ...           ...           ...   \n",
       "12-27     2019-12-27            -36.1    -13.981752     -2.229197   \n",
       "12-28     2019-12-28            -38.9    -13.921168     -2.927737   \n",
       "12-29     2019-12-29            -38.1    -14.408824     -2.900735   \n",
       "12-30     2019-12-30            -37.2    -15.527206     -4.697059   \n",
       "12-31     2019-12-31            -35.6    -15.825185     -4.302963   \n",
       "\n",
       "           record_max_temp  stats_count  \n",
       "month-day                                \n",
       "01-01                 11.7          137  \n",
       "01-02                 12.2          136  \n",
       "01-03                 12.2          135  \n",
       "01-04                 15.3          136  \n",
       "01-05                 12.1          136  \n",
       "...                    ...          ...  \n",
       "12-27                 19.5          137  \n",
       "12-28                 16.9          137  \n",
       "12-29                 16.1          136  \n",
       "12-30                 10.6          136  \n",
       "12-31                 13.3          135  \n",
       "\n",
       "[366 rows x 6 columns]"
      ]
     },
     "execution_count": 247,
     "metadata": {},
     "output_type": "execute_result"
    }
   ],
   "source": [
    "weather_stats"
   ]
  },
  {
   "cell_type": "code",
   "execution_count": 249,
   "metadata": {},
   "outputs": [
    {
     "name": "stdout",
     "output_type": "stream",
     "text": [
      "<class 'pandas.core.frame.DataFrame'>\n",
      "Index: 366 entries, 01-01 to 12-31\n",
      "Data columns (total 6 columns):\n",
      " #   Column           Non-Null Count  Dtype         \n",
      "---  ------           --------------  -----         \n",
      " 0   last_date        366 non-null    datetime64[ns]\n",
      " 1   record_min_temp  366 non-null    float64       \n",
      " 2   avg_min_temp     366 non-null    float64       \n",
      " 3   avg_max_temp     366 non-null    float64       \n",
      " 4   record_max_temp  366 non-null    float64       \n",
      " 5   stats_count      366 non-null    int64         \n",
      "dtypes: datetime64[ns](1), float64(4), int64(1)\n",
      "memory usage: 20.0+ KB\n"
     ]
    }
   ],
   "source": [
    "weather_stats.info()"
   ]
  },
  {
   "cell_type": "code",
   "execution_count": 248,
   "metadata": {},
   "outputs": [],
   "source": [
    "weather_stats.to_csv(\"C:/Users/Jason/Documents/_Projects/2020-10 yyc_weather web app/weather_stats.csv\")"
   ]
  },
  {
   "cell_type": "code",
   "execution_count": null,
   "metadata": {},
   "outputs": [],
   "source": []
  }
 ],
 "metadata": {
  "kernelspec": {
   "display_name": "Python 3",
   "language": "python",
   "name": "python3"
  },
  "language_info": {
   "codemirror_mode": {
    "name": "ipython",
    "version": 3
   },
   "file_extension": ".py",
   "mimetype": "text/x-python",
   "name": "python",
   "nbconvert_exporter": "python",
   "pygments_lexer": "ipython3",
   "version": "3.7.9"
  }
 },
 "nbformat": 4,
 "nbformat_minor": 4
}
