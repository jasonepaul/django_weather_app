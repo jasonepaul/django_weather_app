{
 "cells": [
  {
   "cell_type": "code",
   "execution_count": 106,
   "metadata": {},
   "outputs": [],
   "source": [
    "import pandas as pd\n",
    "import numpy as np\n",
    "from datetime import date, timedelta"
   ]
  },
  {
   "cell_type": "code",
   "execution_count": 107,
   "metadata": {},
   "outputs": [
    {
     "data": {
      "text/html": [
       "<style>.container { width:90% !important; }</style>"
      ],
      "text/plain": [
       "<IPython.core.display.HTML object>"
      ]
     },
     "metadata": {},
     "output_type": "display_data"
    }
   ],
   "source": [
    "from IPython.core.display import display, HTML\n",
    "display(HTML(\"<style>.container { width:90% !important; }</style>\"))"
   ]
  },
  {
   "cell_type": "code",
   "execution_count": 108,
   "metadata": {},
   "outputs": [],
   "source": [
    "# url for https://climate.weather.gc.ca/ historical weather API\n",
    "url_template = \"https://climate.weather.gc.ca/climate_data/bulk_data_e.html?format=csv&stationID={station}&Year={year}&Month=1&timeframe=2&submit=Download+Data\""
   ]
  },
  {
   "cell_type": "code",
   "execution_count": 109,
   "metadata": {},
   "outputs": [],
   "source": [
    "def download_weather_data(station, year):\n",
    "    url = url_template.format(station=station, year=year)\n",
    "    weather_data = pd.read_csv(url, index_col='Date/Time', parse_dates=True)\n",
    "    # replace the degree symbol in the column names, then change column names to lower case\n",
    "    weather_data.columns = [col.replace('\\xb0', '') for col in weather_data.columns]\n",
    "    weather_data.columns = [col.lower() for col in weather_data.columns]\n",
    "    weather_data = weather_data[['min temp (c)', 'max temp (c)']]\n",
    "    return weather_data"
   ]
  },
  {
   "cell_type": "code",
   "execution_count": 110,
   "metadata": {},
   "outputs": [],
   "source": [
    "def query_weather_API(id = 50430):\n",
    "    df_list = []\n",
    "    today = date.today()\n",
    "    for yr in range(today.year-1, today.year+1):\n",
    "        df = download_weather_data(id, yr)\n",
    "        df_list.append(df)\n",
    "    weather = pd.concat(df_list)\n",
    "    weather.sort_index(inplace=True)\n",
    "    return weather"
   ]
  },
  {
   "cell_type": "code",
   "execution_count": 125,
   "metadata": {},
   "outputs": [
    {
     "name": "stdout",
     "output_type": "stream",
     "text": [
      "<class 'pandas.core.frame.DataFrame'>\n",
      "DatetimeIndex: 84 entries, 2020-07-31 to 2020-10-22\n",
      "Data columns (total 2 columns):\n",
      " #   Column        Non-Null Count  Dtype  \n",
      "---  ------        --------------  -----  \n",
      " 0   min temp (c)  82 non-null     float64\n",
      " 1   max temp (c)  82 non-null     float64\n",
      "dtypes: float64(2)\n",
      "memory usage: 2.0 KB\n"
     ]
    }
   ],
   "source": [
    "end = date.today() - timedelta(days=1)\n",
    "start = end - timedelta(days=(7*12)-1)\n",
    "current_weather = query_weather_API()[str(start):str(end)]\n",
    "current_weather.info()"
   ]
  },
  {
   "cell_type": "code",
   "execution_count": 126,
   "metadata": {},
   "outputs": [],
   "source": [
    "months = current_weather.index.month.astype(str)\n",
    "months = months.map(lambda x: x if len(x) == 2 else '0' + x)\n",
    "days = current_weather.index.day.astype(str)\n",
    "days = days.map(lambda x: x if len(x) == 2 else '0' + x)\n",
    "current_weather['month-day'] = months + \"-\" + days"
   ]
  },
  {
   "cell_type": "code",
   "execution_count": 127,
   "metadata": {
    "scrolled": false
   },
   "outputs": [
    {
     "data": {
      "text/html": [
       "<div>\n",
       "<style scoped>\n",
       "    .dataframe tbody tr th:only-of-type {\n",
       "        vertical-align: middle;\n",
       "    }\n",
       "\n",
       "    .dataframe tbody tr th {\n",
       "        vertical-align: top;\n",
       "    }\n",
       "\n",
       "    .dataframe thead th {\n",
       "        text-align: right;\n",
       "    }\n",
       "</style>\n",
       "<table border=\"1\" class=\"dataframe\">\n",
       "  <thead>\n",
       "    <tr style=\"text-align: right;\">\n",
       "      <th></th>\n",
       "      <th>min temp (c)</th>\n",
       "      <th>max temp (c)</th>\n",
       "      <th>month-day</th>\n",
       "    </tr>\n",
       "    <tr>\n",
       "      <th>Date/Time</th>\n",
       "      <th></th>\n",
       "      <th></th>\n",
       "      <th></th>\n",
       "    </tr>\n",
       "  </thead>\n",
       "  <tbody>\n",
       "    <tr>\n",
       "      <th>2020-07-31</th>\n",
       "      <td>17.5</td>\n",
       "      <td>27.0</td>\n",
       "      <td>07-31</td>\n",
       "    </tr>\n",
       "    <tr>\n",
       "      <th>2020-08-01</th>\n",
       "      <td>15.5</td>\n",
       "      <td>28.1</td>\n",
       "      <td>08-01</td>\n",
       "    </tr>\n",
       "    <tr>\n",
       "      <th>2020-08-02</th>\n",
       "      <td>14.1</td>\n",
       "      <td>28.2</td>\n",
       "      <td>08-02</td>\n",
       "    </tr>\n",
       "    <tr>\n",
       "      <th>2020-08-03</th>\n",
       "      <td>15.1</td>\n",
       "      <td>28.6</td>\n",
       "      <td>08-03</td>\n",
       "    </tr>\n",
       "    <tr>\n",
       "      <th>2020-08-04</th>\n",
       "      <td>10.7</td>\n",
       "      <td>25.6</td>\n",
       "      <td>08-04</td>\n",
       "    </tr>\n",
       "    <tr>\n",
       "      <th>...</th>\n",
       "      <td>...</td>\n",
       "      <td>...</td>\n",
       "      <td>...</td>\n",
       "    </tr>\n",
       "    <tr>\n",
       "      <th>2020-10-18</th>\n",
       "      <td>-8.8</td>\n",
       "      <td>-6.3</td>\n",
       "      <td>10-18</td>\n",
       "    </tr>\n",
       "    <tr>\n",
       "      <th>2020-10-19</th>\n",
       "      <td>-8.0</td>\n",
       "      <td>-0.5</td>\n",
       "      <td>10-19</td>\n",
       "    </tr>\n",
       "    <tr>\n",
       "      <th>2020-10-20</th>\n",
       "      <td>-4.6</td>\n",
       "      <td>1.9</td>\n",
       "      <td>10-20</td>\n",
       "    </tr>\n",
       "    <tr>\n",
       "      <th>2020-10-21</th>\n",
       "      <td>-9.1</td>\n",
       "      <td>-2.6</td>\n",
       "      <td>10-21</td>\n",
       "    </tr>\n",
       "    <tr>\n",
       "      <th>2020-10-22</th>\n",
       "      <td>-10.0</td>\n",
       "      <td>-8.1</td>\n",
       "      <td>10-22</td>\n",
       "    </tr>\n",
       "  </tbody>\n",
       "</table>\n",
       "<p>84 rows × 3 columns</p>\n",
       "</div>"
      ],
      "text/plain": [
       "            min temp (c)  max temp (c) month-day\n",
       "Date/Time                                       \n",
       "2020-07-31          17.5          27.0     07-31\n",
       "2020-08-01          15.5          28.1     08-01\n",
       "2020-08-02          14.1          28.2     08-02\n",
       "2020-08-03          15.1          28.6     08-03\n",
       "2020-08-04          10.7          25.6     08-04\n",
       "...                  ...           ...       ...\n",
       "2020-10-18          -8.8          -6.3     10-18\n",
       "2020-10-19          -8.0          -0.5     10-19\n",
       "2020-10-20          -4.6           1.9     10-20\n",
       "2020-10-21          -9.1          -2.6     10-21\n",
       "2020-10-22         -10.0          -8.1     10-22\n",
       "\n",
       "[84 rows x 3 columns]"
      ]
     },
     "execution_count": 127,
     "metadata": {},
     "output_type": "execute_result"
    }
   ],
   "source": [
    "current_weather"
   ]
  },
  {
   "cell_type": "code",
   "execution_count": null,
   "metadata": {},
   "outputs": [],
   "source": []
  }
 ],
 "metadata": {
  "kernelspec": {
   "display_name": "Python 3",
   "language": "python",
   "name": "python3"
  },
  "language_info": {
   "codemirror_mode": {
    "name": "ipython",
    "version": 3
   },
   "file_extension": ".py",
   "mimetype": "text/x-python",
   "name": "python",
   "nbconvert_exporter": "python",
   "pygments_lexer": "ipython3",
   "version": "3.7.9"
  }
 },
 "nbformat": 4,
 "nbformat_minor": 4
}
